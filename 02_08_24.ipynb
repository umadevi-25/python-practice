{
  "nbformat": 4,
  "nbformat_minor": 0,
  "metadata": {
    "colab": {
      "provenance": [],
      "authorship_tag": "ABX9TyOYaDWXCeIQ2iitD0g4yuPM",
      "include_colab_link": true
    },
    "kernelspec": {
      "name": "python3",
      "display_name": "Python 3"
    },
    "language_info": {
      "name": "python"
    }
  },
  "cells": [
    {
      "cell_type": "markdown",
      "metadata": {
        "id": "view-in-github",
        "colab_type": "text"
      },
      "source": [
        "<a href=\"https://colab.research.google.com/github/umadevi-25/python-practice/blob/main/02_08_24.ipynb\" target=\"_parent\"><img src=\"https://colab.research.google.com/assets/colab-badge.svg\" alt=\"Open In Colab\"/></a>"
      ]
    },
    {
      "cell_type": "markdown",
      "source": [
        "You have to find and return the number between ‘a’ and ‘b’ ( range inclusive on both ends) which has the maximum exponent of 2.\n",
        "\n"
      ],
      "metadata": {
        "id": "WKDmBfost4oo"
      }
    },
    {
      "cell_type": "code",
      "execution_count": 4,
      "metadata": {
        "colab": {
          "base_uri": "https://localhost:8080/"
        },
        "id": "JHbwr3vttnkK",
        "outputId": "f918f2c0-ed58-465c-8531-a003f9ad0ccb"
      },
      "outputs": [
        {
          "output_type": "stream",
          "name": "stdout",
          "text": [
            "7 12\n",
            "8\n"
          ]
        }
      ],
      "source": [
        "def countExceptions(i):\n",
        "  count=0\n",
        "  while i%2==0 and i!=0:\n",
        "    count+=1\n",
        "    i//=2\n",
        "  return count\n",
        "def maximum(a,b):\n",
        "  maximum,number=0,a\n",
        "  for i in range(a,b):\n",
        "    temp=countExceptions(i)\n",
        "    if temp>maximum:\n",
        "      maximum,number=temp,i\n",
        "  return number\n",
        "a,b=map(int,input().split())\n",
        "print(maximum(a,b))"
      ]
    },
    {
      "cell_type": "markdown",
      "source": [
        "The function accepts 2 positive integer ‘m’ and ‘n’ as its arguments.You are required to calculate the sum of numbers divisible both by 3 and 5, between ‘m’ and ‘n’ both inclusive and return the same."
      ],
      "metadata": {
        "id": "8XwbOVh4wfwL"
      }
    },
    {
      "cell_type": "code",
      "source": [
        "def calculate(m,n):\n",
        "  sum=0\n",
        "  for i in range(m,n+1):\n",
        "    if (i%3==0) and (i%5==0):\n",
        "      sum+=i\n",
        "  return sum\n",
        "m=int(input())\n",
        "n=int(input())\n",
        "print(calculate(m,n))"
      ],
      "metadata": {
        "colab": {
          "base_uri": "https://localhost:8080/"
        },
        "id": "xaPrfMAWxaqx",
        "outputId": "4714ba2d-e492-4a94-c9ea-3148cde608c7"
      },
      "execution_count": 12,
      "outputs": [
        {
          "output_type": "stream",
          "name": "stdout",
          "text": [
            "100\n",
            "160\n",
            "510\n"
          ]
        }
      ]
    },
    {
      "cell_type": "markdown",
      "source": [
        "You are required to input the size of the matrix then the elements of matrix, then you have to divide the main mat\n",
        "rix in two sub matrices (even and odd) in such a way that element at 0 index will be considered as even and element at 1st index will be considered as odd and so on. then you have sort the even and odd matrices in ascending order then print the sum of second largest number from both the matrices"
      ],
      "metadata": {
        "id": "o4oQN5vM1QxL"
      }
    },
    {
      "cell_type": "code",
      "source": [
        "array=[]\n",
        "evenArr=[]\n",
        "oddArr=[]\n",
        "n=int(input(\"enter the size of array:\"))\n",
        "for i in range(n):\n",
        "  number=int(input(\"enter the element at {} index\".format(i)))\n",
        "  array.append(number)\n",
        "  if i%2==0:\n",
        "    evenArr.append(array[i])\n",
        "  else:\n",
        "    oddArr.append(array[i])\n",
        "evenA3rr=sorted(evenArr)\n",
        "print(\"sorted even array\",evenArr[0:len(evenArr)])\n",
        "oddArr=sorted(oddArr)\n",
        "print(\"sorted odd array\",oddArr[0:len(oddArr)])\n",
        "print(evenArr[1]+oddArr[1])\n",
        "\n",
        "\n",
        ""
      ],
      "metadata": {
        "colab": {
          "base_uri": "https://localhost:8080/"
        },
        "id": "PBpzAKJd1SYV",
        "outputId": "04de13df-2806-4ce5-f9f6-1bc7f512e298"
      },
      "execution_count": 23,
      "outputs": [
        {
          "output_type": "stream",
          "name": "stdout",
          "text": [
            "enter the size of array:4\n",
            "enter the element at 0 index7\n",
            "enter the element at 1 index8\n",
            "enter the element at 2 index8\n",
            "enter the element at 3 index6\n",
            "sorted even array [7, 8]\n",
            "sorted odd array [6, 8]\n",
            "16\n"
          ]
        }
      ]
    },
    {
      "cell_type": "markdown",
      "source": [
        "Write a program  such that it takes a lower limit and upper limit as inputs and print all the intermediate palindrome numbers."
      ],
      "metadata": {
        "id": "9XXI0Q71_6gB"
      }
    },
    {
      "cell_type": "code",
      "source": [
        "a=int(input())\n",
        "b=int(input())\n",
        "for i in range(a,b):\n",
        "  rev=0\n",
        "  temp=i\n",
        "  while temp!=0:\n",
        "    rem=temp%10\n",
        "    rev=(rev*10)+rem\n",
        "    temp=temp//10\n",
        "  if i==rev:\n",
        "    print(rev,end=\" \")\n",
        ""
      ],
      "metadata": {
        "colab": {
          "base_uri": "https://localhost:8080/"
        },
        "id": "CvLwSXN2_8jS",
        "outputId": "b5f66b55-55a4-481d-8edf-ad7b56205960"
      },
      "execution_count": 26,
      "outputs": [
        {
          "output_type": "stream",
          "name": "stdout",
          "text": [
            "100\n",
            "200\n",
            "101 111 121 131 141 151 161 171 181 191 "
          ]
        }
      ]
    }
  ]
}