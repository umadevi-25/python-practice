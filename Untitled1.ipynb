{
  "nbformat": 4,
  "nbformat_minor": 0,
  "metadata": {
    "colab": {
      "provenance": [],
      "authorship_tag": "ABX9TyOBeYSlWZlz/+HmVtmCWc6i",
      "include_colab_link": true
    },
    "kernelspec": {
      "name": "python3",
      "display_name": "Python 3"
    },
    "language_info": {
      "name": "python"
    }
  },
  "cells": [
    {
      "cell_type": "markdown",
      "metadata": {
        "id": "view-in-github",
        "colab_type": "text"
      },
      "source": [
        "<a href=\"https://colab.research.google.com/github/umadevi-25/python-practice/blob/main/Untitled1.ipynb\" target=\"_parent\"><img src=\"https://colab.research.google.com/assets/colab-badge.svg\" alt=\"Open In Colab\"/></a>"
      ]
    },
    {
      "cell_type": "markdown",
      "source": [
        "The function accept positive integer n and num Implement the function to calculate the n-base equivalent of num and return the same as a string"
      ],
      "metadata": {
        "id": "mAK7NoHJ_bb8"
      }
    },
    {
      "cell_type": "code",
      "source": [
        "n = int(input(\"Enter the base: \"))\n",
        "num = int(input(\"Enter the number: \"))\n",
        "\n",
        "remainder = []\n",
        "if num == 0:\n",
        "    remainder.append(0)\n",
        "\n",
        "while num > 0:\n",
        "    remainder.append(num % n)\n",
        "    num = num // n\n",
        "\n",
        "remainder = remainder[::-1]\n",
        "equ = ''\n",
        "for i in remainder:\n",
        "    if i >= 10:\n",
        "        a = i - 10\n",
        "        a = 65 + a  # Convert to ASCII code for 'A', 'B', ...\n",
        "        equ += chr(a)\n",
        "    else:\n",
        "        equ += str(i)\n",
        "\n",
        "print(equ)\n"
      ],
      "metadata": {
        "colab": {
          "base_uri": "https://localhost:8080/"
        },
        "id": "11z0j7drPbFb",
        "outputId": "3fd38867-2461-4fa1-fe80-b9de05eb1b2d"
      },
      "execution_count": null,
      "outputs": [
        {
          "output_type": "stream",
          "name": "stdout",
          "text": [
            "Enter the base: 21\n",
            "Enter the number: 5678\n",
            "CI8\n"
          ]
        }
      ]
    },
    {
      "cell_type": "markdown",
      "source": [
        "The function accepts a string “str” of length ‘n’, that contains alphabets and hyphens (-). Implement the function to move all hyphens(-) in the string to the front of the given string."
      ],
      "metadata": {
        "id": "ZEIt4TwU_Rkd"
      }
    },
    {
      "cell_type": "code",
      "source": [
        "n=input()\n",
        "final=\"\"\n",
        "count=0\n",
        "for i in n:\n",
        "  if i==\"-\":\n",
        "    count+=1\n",
        "  else:\n",
        "    final+=i\n",
        "print(\"-\"*count,final)\n",
        "\n",
        "\n"
      ],
      "metadata": {
        "colab": {
          "base_uri": "https://localhost:8080/"
        },
        "id": "RH1ifmqQPkHD",
        "outputId": "37b26e59-6b55-4692-cdb1-b8536efb51c6"
      },
      "execution_count": null,
      "outputs": [
        {
          "output_type": "stream",
          "name": "stdout",
          "text": [
            "rani - is - a - good - girl\n",
            "---- rani  is  a  good  girl\n"
          ]
        }
      ]
    },
    {
      "cell_type": "markdown",
      "source": [
        "A carry is a digit that is transferred to left if sum of digits exceeds 9 while adding two numbers from right-to-left one digit at a time .The functions accepts two numbers ‘num1’ and ‘num2’ as its arguments. You are required to calculate and return  the total number of carries generated while adding digits of two numbers ‘num1’ and ‘ num2’."
      ],
      "metadata": {
        "id": "PLa1oglJ-iT1"
      }
    },
    {
      "cell_type": "code",
      "source": [
        "def numofcarries(n1,n2):\n",
        "  count=0\n",
        "  carry=0\n",
        "  if len(n1)<=len(n2):\n",
        "    l=len(n1)-1\n",
        "  else:\n",
        "    l=len(n2)-1\n",
        "  for i in range(l+1):\n",
        "    temp=int(n1[l-i])+int(n2[l-1])+carry\n",
        "    if len(str(temp))>1:\n",
        "      count+=1\n",
        "      carry=1\n",
        "    else:\n",
        "      carry=0\n",
        "  return count+carry\n",
        "n1=input()\n",
        "n2=input()\n",
        "print(numofcarries(n1,n2))"
      ],
      "metadata": {
        "colab": {
          "base_uri": "https://localhost:8080/"
        },
        "id": "1-jXaezRkKsM",
        "outputId": "ad312e86-6c27-410a-adfa-4fd805a23b32"
      },
      "execution_count": null,
      "outputs": [
        {
          "output_type": "stream",
          "name": "stdout",
          "text": [
            "567\n",
            "654\n",
            "4\n"
          ]
        }
      ]
    },
    {
      "cell_type": "markdown",
      "source": [
        "The function accepts a string  ‘ str’ of length n and two characters ‘ch1’ and ‘ch2’ as its arguments . Implement the function to modify and return the string ‘ str’ in such a way that all occurrences of ‘ch1’ in original string are replaced by ‘ch2’ and all occurrences of ‘ch2’  in original string are replaced by ‘ch1’."
      ],
      "metadata": {
        "id": "ASAhV-EN-VCV"
      }
    },
    {
      "cell_type": "code",
      "source": [
        "def swap(a,str1,str2):\n",
        "  ans=\"\"\n",
        "  if a!=None:\n",
        "    ans=a.replace(str1,'*').replace(str2,str1).replace('*',str2)\n",
        "    return ans\n",
        "  return null\n",
        "a=input()\n",
        "str1,str2=map(str,input().split())\n",
        "print(swap(a,str1,str2))\n"
      ],
      "metadata": {
        "colab": {
          "base_uri": "https://localhost:8080/"
        },
        "id": "zDpwqiFnyzq-",
        "outputId": "685a71d4-d569-4896-b4d3-db571acf066f"
      },
      "execution_count": null,
      "outputs": [
        {
          "output_type": "stream",
          "name": "stdout",
          "text": [
            "life is a race run run\n",
            "l r\n",
            "rife is a lace lun lun\n"
          ]
        }
      ]
    },
    {
      "cell_type": "markdown",
      "source": [
        "The function accepts 3 positive integers ‘a’ , ‘b’ and ‘c ‘ as its arguments. Implement the function to return.\n",
        "\n",
        "( a+ b ) , if c=1 ( a – b ) , if c=2 ( a * b ) , if c=3 (a / b) , if c =4"
      ],
      "metadata": {
        "id": "VJYIEQFI9T1g"
      }
    },
    {
      "cell_type": "code",
      "source": [
        "def operationChoices(c,a,b):\n",
        "    if c == 1 :\n",
        "        return(a+b)\n",
        "    elif c == 2:\n",
        "        return(a-b)\n",
        "    elif c == 3:\n",
        "        return(a*b)\n",
        "    else:\n",
        "        return(a//b)\n",
        "c,a,b = map(int,input().split())\n",
        "print(operationChoices(c, a, b))"
      ],
      "metadata": {
        "colab": {
          "base_uri": "https://localhost:8080/"
        },
        "id": "xah80oe38DUg",
        "outputId": "03480749-de4c-49af-9749-7343d11e778e"
      },
      "execution_count": 22,
      "outputs": [
        {
          "output_type": "stream",
          "name": "stdout",
          "text": [
            "3 56 89\n",
            "4984\n"
          ]
        }
      ]
    }
  ]
}